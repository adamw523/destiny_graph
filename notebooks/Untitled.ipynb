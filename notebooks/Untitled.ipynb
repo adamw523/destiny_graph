{
 "cells": [
  {
   "cell_type": "code",
   "execution_count": 1,
   "metadata": {
    "collapsed": false,
    "scrolled": false
   },
   "outputs": [],
   "source": [
    "# configuration\n",
    "\n",
    "import configparser\n",
    "config = configparser.ConfigParser()\n",
    "config.read('/work/private/config')\n",
    "BUNGIE_API_KEY = config.get('bungie', 'api_key')\n"
   ]
  },
  {
   "cell_type": "code",
   "execution_count": 2,
   "metadata": {
    "collapsed": false
   },
   "outputs": [],
   "source": [
    "import json\n",
    "import requests\n",
    "\n",
    "class BungieClient:\n",
    "    def __init__(self):\n",
    "        self.api_key = BUNGIE_API_KEY\n",
    "        self.service_url = \"http://www.bungie.net/Platform/Destiny\"\n",
    "        \n",
    "    def get_request(self, path):\n",
    "        url = self.service_url + path\n",
    "        headers = {'X-API-Key': self.api_key}\n",
    "        print(\"getting URL: \" + url)\n",
    "        r = requests.get(url, headers=headers)\n",
    "        return r.text\n",
    "        \n",
    "    def search_user(self, membership_type, display_name):\n",
    "        path = \"/SearchDestinyPlayer/%s/%s/\" % (membership_type, display_name)\n",
    "        result_json = json.loads(self.get_request(path))\n",
    "        return result_json['Response']\n",
    "    \n",
    "    def get_account_details(self, membership_type, membership_id):\n",
    "        path = \"/%s/Account/%s/\" % (membership_type, membership_id)\n",
    "        result_json = json.loads(self.get_request(path))\n",
    "        return result_json['Response']['data']\n",
    "        #print(json.dumps(result_json, sort_keys=True, indent=2))\n",
    "        #return Account.from_json(result_json['Response'][0])\n",
    "\n",
    "    def get_activity_history(self, membership_type, membership_id, character_id):\n",
    "        path = \"/Stats/ActivityHistory/%s/%s/%s/\" % (membership_type, membership_id, character_id)\n",
    "        result_json = json.loads(self.get_request(path))\n",
    "        # print(json.dumps(result_json, sort_keys=True, indent=2))\n",
    "        return result_json['Response']['data']\n",
    "\n",
    "    def get_activity_stats(self, membership_type, membership_id, character_id):\n",
    "        path = \"/Stats/AggregateActivityStats/%s/%s/%s/\" % (membership_type, membership_id, character_id)\n",
    "        result_json = json.loads(self.get_request(path))\n",
    "        # print(json.dumps(result_json, sort_keys=True, indent=2))\n",
    "        return result_json['Response']['data']\n",
    "\n",
    "    def get_post_game_carnage_report(self, activity_id):\n",
    "        path = \"/Stats/PostGameCarnageReport/%s/\" % (activity_id)\n",
    "        result_json = json.loads(self.get_request(path))\n",
    "        # print(json.dumps(result_json, sort_keys=True, indent=2))\n",
    "        return result_json['Response']['data']\n",
    "\n",
    "    \n",
    "\n"
   ]
  },
  {
   "cell_type": "code",
   "execution_count": 3,
   "metadata": {
    "collapsed": false
   },
   "outputs": [
    {
     "name": "stdout",
     "output_type": "stream",
     "text": [
      "getting URL: http://www.bungie.net/Platform/Destiny/SearchDestinyPlayer/All/cherrybomb523/\n",
      "Got 1 user(s)\n"
     ]
    }
   ],
   "source": [
    "client = BungieClient()\n",
    "users = client.search_user('All', 'cherrybomb523')\n",
    "print(\"Got %s user(s)\" % len(users))"
   ]
  },
  {
   "cell_type": "code",
   "execution_count": 4,
   "metadata": {
    "collapsed": false,
    "scrolled": false
   },
   "outputs": [
    {
     "name": "stdout",
     "output_type": "stream",
     "text": [
      "{'membershipId': '4611686018444811938', 'membershipType': 2, 'iconPath': '/img/theme/destiny/icons/icon_psn.png', 'displayName': 'cherrybomb523'}\n",
      "getting URL: http://www.bungie.net/Platform/Destiny/2/Account/4611686018444811938/\n",
      "DoD NA East Team Blue DoD 2260\n",
      "28\n",
      "2305843009294377580\n",
      "32\n",
      "2305843009270066180\n",
      "32\n",
      "2305843009264621770\n"
     ]
    }
   ],
   "source": [
    "for user in users:\n",
    "    print(user)\n",
    "    account_details = client.get_account_details(user['membershipType'], user['membershipId'])\n",
    "    print(account_details['clanName'], account_details['clanTag'], account_details['grimoireScore'])\n",
    "    for character in account_details['characters']:\n",
    "        print(character['characterLevel'])\n",
    "        print(character['characterBase']['characterId'])\n",
    "        #client.get_activity_history(user['membershipType'], user['membershipId'], character['characterBase']['characterId'])\n"
   ]
  },
  {
   "cell_type": "code",
   "execution_count": 5,
   "metadata": {
    "collapsed": false,
    "scrolled": false
   },
   "outputs": [
    {
     "name": "stdout",
     "output_type": "stream",
     "text": [
      "getting URL: http://www.bungie.net/Platform/Destiny/Stats/PostGameCarnageReport/2201513321/\n"
     ]
    }
   ],
   "source": [
    "# example PvP activity\n",
    "# http://www.bungie.net/Platform/Destiny/Stats/PostGameCarnageReport/2201513321/\n",
    "\n",
    "carnage_report = client.get_post_game_carnage_report('2201513321')\n",
    "# print(json.dumps(carnage_report, sort_keys=True, indent=2))"
   ]
  },
  {
   "cell_type": "code",
   "execution_count": 6,
   "metadata": {
    "collapsed": false
   },
   "outputs": [],
   "source": [
    "from redis import Redis"
   ]
  },
  {
   "cell_type": "code",
   "execution_count": null,
   "metadata": {
    "collapsed": true
   },
   "outputs": [],
   "source": []
  },
  {
   "cell_type": "code",
   "execution_count": null,
   "metadata": {
    "collapsed": true
   },
   "outputs": [],
   "source": []
  },
  {
   "cell_type": "code",
   "execution_count": null,
   "metadata": {
    "collapsed": true
   },
   "outputs": [],
   "source": []
  },
  {
   "cell_type": "code",
   "execution_count": null,
   "metadata": {
    "collapsed": true
   },
   "outputs": [],
   "source": []
  },
  {
   "cell_type": "code",
   "execution_count": null,
   "metadata": {
    "collapsed": true
   },
   "outputs": [],
   "source": []
  }
 ],
 "metadata": {
  "kernelspec": {
   "display_name": "Python 3",
   "language": "python",
   "name": "python3"
  },
  "language_info": {
   "codemirror_mode": {
    "name": "ipython",
    "version": 3
   },
   "file_extension": ".py",
   "mimetype": "text/x-python",
   "name": "python",
   "nbconvert_exporter": "python",
   "pygments_lexer": "ipython3",
   "version": "3.4.0"
  }
 },
 "nbformat": 4,
 "nbformat_minor": 0
}
