{
 "cells": [
  {
   "cell_type": "code",
   "execution_count": 1,
   "metadata": {
    "collapsed": false,
    "scrolled": false
   },
   "outputs": [],
   "source": [
    "# configuration\n",
    "\n",
    "import ConfigParser\n",
    "config = ConfigParser.ConfigParser()\n",
    "config.read('/work/private/config')\n",
    "BUNGIE_API_KEY = config.get('bungie', 'api_key')\n"
   ]
  },
  {
   "cell_type": "code",
   "execution_count": 2,
   "metadata": {
    "collapsed": false
   },
   "outputs": [],
   "source": [
    "import json\n",
    "import requests\n",
    "\n",
    "class BungieClient:\n",
    "    def __init__(self):\n",
    "        self.api_key = BUNGIE_API_KEY\n",
    "        self.service_url = \"http://www.bungie.net/Platform/Destiny\"\n",
    "        \n",
    "    def get_request(self, path):\n",
    "        url = self.service_url + path\n",
    "        headers = {'X-API-Key': self.api_key}\n",
    "        print \"getting URL: \" + url\n",
    "        r = requests.get(url, headers=headers)\n",
    "        return r.text\n",
    "        \n",
    "    def search_user(self, membership_type, display_name):\n",
    "        path = \"/SearchDestinyPlayer/%s/%s/\" % (membership_type, display_name)\n",
    "        response = self.get_request(path)\n",
    "        result_json = json.loads(self.get_request(path))\n",
    "        return result_json['Response']\n",
    "    \n",
    "    def get_account_details(self, membership_type, membership_id):\n",
    "        path = \"/%s/Account/%s/\" % (membership_type, membership_id)\n",
    "        response = self.get_request(path)\n",
    "        result_json = json.loads(self.get_request(path))\n",
    "        return result_json['Response']['data']\n",
    "        #print json.dumps(result_json, sort_keys=True, indent=2)\n",
    "        #return Account.from_json(result_json['Response'][0])\n",
    "\n",
    "    def get_activity_history(self, membership_type, membership_id, character_id):\n",
    "        path = \"/Stats/ActivityHistory/%s/%s/%s/\" % (membership_type, membership_id, character_id)\n",
    "        response = self.get_request(path)\n",
    "        result_json = json.loads(self.get_request(path))\n",
    "        print json.dumps(result_json, sort_keys=True, indent=2)\n",
    "        return result_json['Response']['data']\n",
    "\n",
    "    def get_activity_stats(self, membership_type, membership_id, character_id):\n",
    "        path = \"/Stats/AggregateActivityStats/%s/%s/%s/\" % (membership_type, membership_id, character_id)\n",
    "        response = self.get_request(path)\n",
    "        result_json = json.loads(self.get_request(path))\n",
    "        print json.dumps(result_json, sort_keys=True, indent=2)\n",
    "        return result_json['Response']['data']\n",
    "\n",
    "    \n",
    "\n"
   ]
  },
  {
   "cell_type": "code",
   "execution_count": 218,
   "metadata": {
    "collapsed": true
   },
   "outputs": [],
   "source": [
    "class User:\n",
    "    @classmethod\n",
    "    def from_json(cls, user_json):\n",
    "        return cls(user_json['membershipType'], user_json['displayName'], user_json['iconPath'], user_json['membershipId'])       \n",
    "        \n",
    "    def __init__(self, membership_type, display_name, icon_path, membership_id):\n",
    "        self.membership_type = membership_type\n",
    "        self.display_name = display_name\n",
    "        self.icon_path = icon_path\n",
    "        self.membership_id = membership_id\n"
   ]
  },
  {
   "cell_type": "code",
   "execution_count": 3,
   "metadata": {
    "collapsed": false
   },
   "outputs": [
    {
     "name": "stdout",
     "output_type": "stream",
     "text": [
      "getting URL: http://www.bungie.net/Platform/Destiny/SearchDestinyPlayer/All/cherrybomb523/\n",
      "getting URL: http://www.bungie.net/Platform/Destiny/SearchDestinyPlayer/All/cherrybomb523/\n",
      "Got 1 user(s)\n"
     ]
    }
   ],
   "source": [
    "client = BungieClient()\n",
    "users = client.search_user('All', 'cherrybomb523')\n",
    "print(\"Got %s user(s)\" % len(users))"
   ]
  },
  {
   "cell_type": "code",
   "execution_count": 5,
   "metadata": {
    "collapsed": false,
    "scrolled": false
   },
   "outputs": [
    {
     "name": "stdout",
     "output_type": "stream",
     "text": [
      "{u'membershipId': u'4611686018444811938', u'displayName': u'cherrybomb523', u'membershipType': 2, u'iconPath': u'/img/theme/destiny/icons/icon_psn.png'}\n",
      "getting URL: http://www.bungie.net/Platform/Destiny/2/Account/4611686018444811938/\n",
      "getting URL: http://www.bungie.net/Platform/Destiny/2/Account/4611686018444811938/\n",
      "DoD NA East Team Blue DoD 2260\n",
      "28\n",
      "2305843009294377580\n",
      "getting URL: http://www.bungie.net/Platform/Destiny/Stats/ActivityHistory/2/4611686018444811938/2305843009294377580/\n",
      "getting URL: http://www.bungie.net/Platform/Destiny/Stats/ActivityHistory/2/4611686018444811938/2305843009294377580/\n",
      "{\n",
      "  \"ErrorCode\": 19, \n",
      "  \"ErrorStatus\": \"ParameterNotFound\", \n",
      "  \"Message\": \"We've encountered an error, please try again later.\", \n",
      "  \"MessageData\": {}, \n",
      "  \"ThrottleSeconds\": 0\n",
      "}\n"
     ]
    },
    {
     "ename": "KeyError",
     "evalue": "'Response'",
     "output_type": "error",
     "traceback": [
      "\u001b[1;31m---------------------------------------------------------------------------\u001b[0m",
      "\u001b[1;31mKeyError\u001b[0m                                  Traceback (most recent call last)",
      "\u001b[1;32m<ipython-input-5-84ea6d7bad9e>\u001b[0m in \u001b[0;36m<module>\u001b[1;34m()\u001b[0m\n\u001b[0;32m      6\u001b[0m         \u001b[1;32mprint\u001b[0m \u001b[0mcharacter\u001b[0m\u001b[1;33m[\u001b[0m\u001b[1;34m'characterLevel'\u001b[0m\u001b[1;33m]\u001b[0m\u001b[1;33m\u001b[0m\u001b[0m\n\u001b[0;32m      7\u001b[0m         \u001b[1;32mprint\u001b[0m \u001b[0mcharacter\u001b[0m\u001b[1;33m[\u001b[0m\u001b[1;34m'characterBase'\u001b[0m\u001b[1;33m]\u001b[0m\u001b[1;33m[\u001b[0m\u001b[1;34m'characterId'\u001b[0m\u001b[1;33m]\u001b[0m\u001b[1;33m\u001b[0m\u001b[0m\n\u001b[1;32m----> 8\u001b[1;33m         \u001b[0mclient\u001b[0m\u001b[1;33m.\u001b[0m\u001b[0mget_activity_history\u001b[0m\u001b[1;33m(\u001b[0m\u001b[0muser\u001b[0m\u001b[1;33m[\u001b[0m\u001b[1;34m'membershipType'\u001b[0m\u001b[1;33m]\u001b[0m\u001b[1;33m,\u001b[0m \u001b[0muser\u001b[0m\u001b[1;33m[\u001b[0m\u001b[1;34m'membershipId'\u001b[0m\u001b[1;33m]\u001b[0m\u001b[1;33m,\u001b[0m \u001b[0mcharacter\u001b[0m\u001b[1;33m[\u001b[0m\u001b[1;34m'characterBase'\u001b[0m\u001b[1;33m]\u001b[0m\u001b[1;33m[\u001b[0m\u001b[1;34m'characterId'\u001b[0m\u001b[1;33m]\u001b[0m\u001b[1;33m)\u001b[0m\u001b[1;33m\u001b[0m\u001b[0m\n\u001b[0m",
      "\u001b[1;32m<ipython-input-2-b3930d1df96b>\u001b[0m in \u001b[0;36mget_activity_history\u001b[1;34m(self, membership_type, membership_id, character_id)\u001b[0m\n\u001b[0;32m     33\u001b[0m         \u001b[0mresult_json\u001b[0m \u001b[1;33m=\u001b[0m \u001b[0mjson\u001b[0m\u001b[1;33m.\u001b[0m\u001b[0mloads\u001b[0m\u001b[1;33m(\u001b[0m\u001b[0mself\u001b[0m\u001b[1;33m.\u001b[0m\u001b[0mget_request\u001b[0m\u001b[1;33m(\u001b[0m\u001b[0mpath\u001b[0m\u001b[1;33m)\u001b[0m\u001b[1;33m)\u001b[0m\u001b[1;33m\u001b[0m\u001b[0m\n\u001b[0;32m     34\u001b[0m         \u001b[1;32mprint\u001b[0m \u001b[0mjson\u001b[0m\u001b[1;33m.\u001b[0m\u001b[0mdumps\u001b[0m\u001b[1;33m(\u001b[0m\u001b[0mresult_json\u001b[0m\u001b[1;33m,\u001b[0m \u001b[0msort_keys\u001b[0m\u001b[1;33m=\u001b[0m\u001b[0mTrue\u001b[0m\u001b[1;33m,\u001b[0m \u001b[0mindent\u001b[0m\u001b[1;33m=\u001b[0m\u001b[1;36m2\u001b[0m\u001b[1;33m)\u001b[0m\u001b[1;33m\u001b[0m\u001b[0m\n\u001b[1;32m---> 35\u001b[1;33m         \u001b[1;32mreturn\u001b[0m \u001b[0mresult_json\u001b[0m\u001b[1;33m[\u001b[0m\u001b[1;34m'Response'\u001b[0m\u001b[1;33m]\u001b[0m\u001b[1;33m[\u001b[0m\u001b[1;34m'data'\u001b[0m\u001b[1;33m]\u001b[0m\u001b[1;33m\u001b[0m\u001b[0m\n\u001b[0m\u001b[0;32m     36\u001b[0m \u001b[1;33m\u001b[0m\u001b[0m\n\u001b[0;32m     37\u001b[0m     \u001b[1;32mdef\u001b[0m \u001b[0mget_activity_stats\u001b[0m\u001b[1;33m(\u001b[0m\u001b[0mself\u001b[0m\u001b[1;33m,\u001b[0m \u001b[0mmembership_type\u001b[0m\u001b[1;33m,\u001b[0m \u001b[0mmembership_id\u001b[0m\u001b[1;33m,\u001b[0m \u001b[0mcharacter_id\u001b[0m\u001b[1;33m)\u001b[0m\u001b[1;33m:\u001b[0m\u001b[1;33m\u001b[0m\u001b[0m\n",
      "\u001b[1;31mKeyError\u001b[0m: 'Response'"
     ]
    }
   ],
   "source": [
    "for user in users:\n",
    "    print user\n",
    "    account_details = client.get_account_details(user['membershipType'], user['membershipId'])\n",
    "    print account_details['clanName'], account_details['clanTag'], account_details['grimoireScore']\n",
    "    for character in account_details['characters']:\n",
    "        print character['characterLevel']\n",
    "        print character['characterBase']['characterId']\n",
    "        client.get_activity_history(user['membershipType'], user['membershipId'], character['characterBase']['characterId'])\n"
   ]
  },
  {
   "cell_type": "code",
   "execution_count": null,
   "metadata": {
    "collapsed": false
   },
   "outputs": [],
   "source": []
  },
  {
   "cell_type": "code",
   "execution_count": null,
   "metadata": {
    "collapsed": true
   },
   "outputs": [],
   "source": []
  },
  {
   "cell_type": "code",
   "execution_count": null,
   "metadata": {
    "collapsed": true
   },
   "outputs": [],
   "source": []
  },
  {
   "cell_type": "code",
   "execution_count": null,
   "metadata": {
    "collapsed": true
   },
   "outputs": [],
   "source": []
  },
  {
   "cell_type": "code",
   "execution_count": null,
   "metadata": {
    "collapsed": true
   },
   "outputs": [],
   "source": []
  },
  {
   "cell_type": "code",
   "execution_count": null,
   "metadata": {
    "collapsed": true
   },
   "outputs": [],
   "source": []
  },
  {
   "cell_type": "code",
   "execution_count": null,
   "metadata": {
    "collapsed": true
   },
   "outputs": [],
   "source": []
  }
 ],
 "metadata": {
  "kernelspec": {
   "display_name": "Python 2",
   "language": "python",
   "name": "python2"
  },
  "language_info": {
   "codemirror_mode": {
    "name": "ipython",
    "version": 2
   },
   "file_extension": ".py",
   "mimetype": "text/x-python",
   "name": "python",
   "nbconvert_exporter": "python",
   "pygments_lexer": "ipython2",
   "version": "2.7.6"
  }
 },
 "nbformat": 4,
 "nbformat_minor": 0
}
